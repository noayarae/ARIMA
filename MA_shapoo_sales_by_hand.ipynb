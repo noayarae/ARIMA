{
  "cells": [
    {
      "cell_type": "markdown",
      "metadata": {
        "colab_type": "text",
        "id": "view-in-github"
      },
      "source": [
        "<a href=\"https://colab.research.google.com/github/noayarae/ARIMA/blob/main/MA_shapoo_sales_by_hand.ipynb\" target=\"_parent\"><img src=\"https://colab.research.google.com/assets/colab-badge.svg\" alt=\"Open In Colab\"/></a>"
      ]
    },
    {
      "attachments": {},
      "cell_type": "markdown",
      "metadata": {
        "id": "6E4SDRr7W8fZ"
      },
      "source": [
        "### MA model computed in python and verified by hand\n",
        "\n",
        "In this code, I run the model to predict three values. These prediction were computed by hand in excel too."
      ]
    },
    {
      "attachments": {},
      "cell_type": "markdown",
      "metadata": {},
      "source": [
        "The excel file is uploaded in this folder"
      ]
    },
    {
      "cell_type": "code",
      "execution_count": 24,
      "metadata": {
        "colab": {
          "base_uri": "https://localhost:8080/",
          "height": 929
        },
        "id": "Sfi-2wF5SBrs",
        "outputId": "bc3fd447-b3b7-4c5e-e339-6cf55240eb81"
      },
      "outputs": [
        {
          "name": "stderr",
          "output_type": "stream",
          "text": [
            "<ipython-input-24-73aa368f2c5d>:3: FutureWarning: The pandas.datetime class is deprecated and will be removed from pandas in a future version. Import from datetime module instead.\n",
            "  from pandas import datetime\n"
          ]
        },
        {
          "name": "stdout",
          "output_type": "stream",
          "text": [
            "[] [0.34088944]\n",
            "[ -27.45969338 -139.17349698  -63.48401535 -152.54868156  -61.16583983\n",
            " -104.10929506  -26.17001145  -60.03861512  -80.19316417 -143.22269074\n",
            "   91.86340928 -138.87495942  -51.81868639 -126.29525046  -40.30697632\n",
            "   -6.41947084  -99.87136357   27.5853997   -76.86326481   36.34218183\n",
            "  -15.94835935  133.57693389  -74.49465942   74.23474927   20.9344646\n",
            "  139.80396873  -25.21738983  154.43664849   55.19448417  125.12508988\n",
            "  239.38648494   32.53598209  377.44913394]\n",
            "\u001b[38;2;0;0;255mIntercept: 293.459693382878   MA.coeff: 0.34088943886108697   Sigma2: 13699.092589614245\u001b[0m\n",
            "------->  predicted = 422.128117, expected = 475.300000\n",
            "--------------------------------------------------------------------------------------\n",
            "[] [0.36245506]\n",
            "[ -29.05300817 -139.84537606  -62.02696249 -153.31531319  -59.19747534\n",
            " -105.09731281  -25.16012505  -61.43359879  -79.98609091 -143.16164477\n",
            "   93.33665487 -142.98335137  -48.92796841 -127.81881825  -38.62443023\n",
            "   -7.75338784 -100.84275349   28.49795849  -79.38223754   37.31948581\n",
            "  -18.67964479  133.31752367  -78.87461974   75.83549717   17.16003186\n",
            "  139.12725139  -29.58038496  154.96855215   50.07785535  124.19601957\n",
            "  235.43151562   27.21364679  377.08326774   43.57125192]\n",
            "\u001b[38;2;0;0;255mIntercept: 295.0530081713559   MA.coeff: 0.36245506391766497   Sigma2: 13356.722523372693\u001b[0m\n",
            "------->  predicted = 310.845629, expected = 581.300000\n",
            "--------------------------------------------------------------------------------------\n",
            "[] [0.33975261]\n",
            "[ -37.82758562 -146.40557177  -71.57309018 -160.24353123  -69.09297743\n",
            " -111.8534915   -34.02514904  -67.76745509  -88.00341626 -151.02819502\n",
            "   83.98463837 -146.46158602  -59.76687895 -134.02163228  -48.19338575\n",
            "  -14.15375684 -107.61880973   19.73618628  -84.53300649   28.49272429\n",
            "  -23.60806317  125.79331555  -82.06619337   66.35461808   13.32825946\n",
            "  132.0441034   -32.78991488  146.61287367   47.66030734  117.37970039\n",
            "  231.79235437   25.02035614  369.67168299   45.87549386  261.88609544]\n",
            "\u001b[38;2;0;0;255mIntercept: 303.8275856151671   MA.coeff: 0.33975261376203747   Sigma2: 14987.75392712475\u001b[0m\n",
            "------->  predicted = 392.804071, expected = 646.900000\n",
            "--------------------------------------------------------------------------------------\n",
            "Test RMSE: 216.439\n"
          ]
        },
        {
          "data": {
            "image/png": "[encoded data removed]",
            "text/plain": [
              "<Figure size 432x288 with 1 Axes>"
            ]
          },
          "metadata": {
            "needs_background": "light"
          },
          "output_type": "display_data"
        }
      ],
      "source": [
        "# evaluate an ARIMA model using a walk-forward validation\n",
        "from pandas import read_csv\n",
        "from pandas import datetime\n",
        "from matplotlib import pyplot\n",
        "from statsmodels.tsa.arima.model import ARIMA\n",
        "from sklearn.metrics import mean_squared_error\n",
        "from math import sqrt\n",
        "\n",
        "# load dataset\n",
        "def parser(x):\n",
        "\treturn datetime.strptime('190'+x, '%Y-%m')\n",
        " \n",
        "def colored(r, g, b, text):\n",
        "    return f\"\\033[38;2;{r};{g};{b}m{text}\\033[0m\"\n",
        "\n",
        "series = read_csv('shampoo-sales.csv', header=0, index_col=0, parse_dates=True, squeeze=True, date_parser=parser)\n",
        "series.index = series.index.to_period('M')\n",
        "# split into train and test sets\n",
        "X = series.values\n",
        "size = 33 # int(len(X) * 0.66)  #  <-----------  SIZE\n",
        "train, test = X[0:size], X[size:len(X)]\n",
        "history = [x for x in train]\n",
        "predictions = list()\n",
        "\n",
        "# walk-forward validation\n",
        "for t in range(len(test)):\n",
        "  #model = ARIMA(history, order=(5,1,0))\n",
        "  model = ARIMA(history, order=(0,0,1))\n",
        "  model_fit = model.fit()\n",
        "  print(model_fit.arparams, model_fit.maparams)\n",
        "  print(model_fit.resid)\n",
        "  #print(model_fit.params[0])\n",
        "  print(colored(0, 0, 255, (\"Intercept: \"+ str(model_fit.params[0])+\"   MA.coeff: \"+ str(model_fit.params[1])+\"   Sigma2: \"+ str(model_fit.params[2]))))\n",
        "  output = model_fit.forecast()\n",
        "  yhat = output[0]\n",
        "  predictions.append(yhat)\n",
        "  obs = test[t]\n",
        "  history.append(obs)\n",
        "  print('------->  predicted = %f, expected = %f' % (yhat, obs))\n",
        "  print('--------------------------------------------------------------------------------------')\n",
        "\n",
        "# evaluate forecasts\n",
        "rmse = sqrt(mean_squared_error(test, predictions))\n",
        "print('Test RMSE: %.3f' % rmse)\n",
        "# plot forecasts against actual outcomes\n",
        "pyplot.plot(test)\n",
        "pyplot.plot(predictions, color='red')\n",
        "pyplot.show()"
      ]
    },
    {
      "cell_type": "code",
      "execution_count": 4,
      "metadata": {
        "colab": {
          "base_uri": "https://localhost:8080/"
        },
        "id": "CWvO6Mb3ShlR",
        "outputId": "73d87dea-7469-4a42-cfac-ecab09122007"
      },
      "outputs": [
        {
          "name": "stdout",
          "output_type": "stream",
          "text": [
            "                               SARIMAX Results                                \n",
            "==============================================================================\n",
            "Dep. Variable:                      y   No. Observations:                   35\n",
            "Model:                 ARIMA(0, 0, 1)   Log Likelihood                -217.994\n",
            "Date:                Tue, 07 Mar 2023   AIC                            441.987\n",
            "Time:                        18:19:15   BIC                            446.653\n",
            "Sample:                             0   HQIC                           443.598\n",
            "                                 - 35                                         \n",
            "Covariance Type:                  opg                                         \n",
            "==============================================================================\n",
            "                 coef    std err          z      P>|z|      [0.025      0.975]\n",
            "------------------------------------------------------------------------------\n",
            "const        303.8276     35.888      8.466      0.000     233.488     374.168\n",
            "ma.L1          0.3398      0.268      1.266      0.206      -0.186       0.866\n",
            "sigma2      1.499e+04   3899.183      3.844      0.000    7345.495    2.26e+04\n",
            "===================================================================================\n",
            "Ljung-Box (L1) (Q):                   2.11   Jarque-Bera (JB):                 7.32\n",
            "Prob(Q):                              0.15   Prob(JB):                         0.03\n",
            "Heteroskedasticity (H):               2.38   Skew:                             1.04\n",
            "Prob(H) (two-sided):                  0.15   Kurtosis:                         3.83\n",
            "===================================================================================\n",
            "\n",
            "Warnings:\n",
            "[1] Covariance matrix calculated using the outer product of gradients (complex-step).\n"
          ]
        }
      ],
      "source": [
        "print(model_fit.summary())"
      ]
    }
  ],
  "metadata": {
    "colab": {
      "authorship_tag": "ABX9TyOqJjrWqQwTKy048bc4jxmL",
      "include_colab_link": true,
      "provenance": []
    },
    "kernelspec": {
      "display_name": "Python 3",
      "name": "python3"
    },
    "language_info": {
      "name": "python"
    }
  },
  "nbformat": 4,
  "nbformat_minor": 0
}
